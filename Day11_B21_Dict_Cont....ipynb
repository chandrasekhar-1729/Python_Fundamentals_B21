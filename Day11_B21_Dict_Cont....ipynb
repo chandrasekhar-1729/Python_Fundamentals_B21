{
 "cells": [
  {
   "cell_type": "code",
   "execution_count": null,
   "metadata": {},
   "outputs": [],
   "source": [
    "# Continuation of Dictionary data type :"
   ]
  },
  {
   "cell_type": "code",
   "execution_count": 1,
   "metadata": {},
   "outputs": [],
   "source": [
    "user_account = {'username':'chandrasekhar.1729','fname':'chandrasekhar','lname':'guntamukkala','pwd':'password'}"
   ]
  },
  {
   "cell_type": "code",
   "execution_count": 2,
   "metadata": {},
   "outputs": [
    {
     "data": {
      "text/plain": [
       "dict"
      ]
     },
     "execution_count": 2,
     "metadata": {},
     "output_type": "execute_result"
    }
   ],
   "source": [
    "type(user_account)"
   ]
  },
  {
   "cell_type": "code",
   "execution_count": null,
   "metadata": {},
   "outputs": [],
   "source": [
    "# general syntax of 'for' loop with dictionary:\n",
    "\n",
    "for k,v in mainvar.items():\n",
    "    print(k)\n",
    "    print(v)"
   ]
  },
  {
   "cell_type": "code",
   "execution_count": 3,
   "metadata": {},
   "outputs": [
    {
     "name": "stdout",
     "output_type": "stream",
     "text": [
      "username\n",
      "chandrasekhar.1729\n",
      "fname\n",
      "chandrasekhar\n",
      "lname\n",
      "guntamukkala\n",
      "pwd\n",
      "password\n"
     ]
    }
   ],
   "source": [
    "# k : Key, v: Value\n",
    "\n",
    "for k,v in user_account.items():\n",
    "    print(k)\n",
    "    print(v)"
   ]
  },
  {
   "cell_type": "code",
   "execution_count": 7,
   "metadata": {},
   "outputs": [
    {
     "name": "stdout",
     "output_type": "stream",
     "text": [
      "key: username\n",
      "value: chandrasekhar.1729\n",
      "\n",
      "key: fname\n",
      "value: chandrasekhar\n",
      "\n",
      "key: lname\n",
      "value: guntamukkala\n",
      "\n",
      "key: pwd\n",
      "value: password\n",
      "\n"
     ]
    }
   ],
   "source": [
    "for k,v in user_account.items():\n",
    "    print(f\"key: {k}\")\n",
    "    print(f\"value: {v}\\n\")"
   ]
  },
  {
   "cell_type": "code",
   "execution_count": 8,
   "metadata": {},
   "outputs": [
    {
     "name": "stdout",
     "output_type": "stream",
     "text": [
      "username\n",
      "fname\n",
      "lname\n",
      "pwd\n"
     ]
    }
   ],
   "source": [
    "# retrieve the keys only.\n",
    "\n",
    "for k in user_account.keys():\n",
    "    print(k)"
   ]
  },
  {
   "cell_type": "code",
   "execution_count": 9,
   "metadata": {},
   "outputs": [
    {
     "name": "stdout",
     "output_type": "stream",
     "text": [
      "chandrasekhar.1729\n",
      "chandrasekhar\n",
      "guntamukkala\n",
      "password\n"
     ]
    }
   ],
   "source": [
    "# retrive the values only.\n",
    "\n",
    "for v in user_account.values():\n",
    "    print(v)"
   ]
  },
  {
   "cell_type": "code",
   "execution_count": 19,
   "metadata": {},
   "outputs": [],
   "source": [
    "# Zen of Python\n",
    "\n",
    "import this"
   ]
  },
  {
   "cell_type": "code",
   "execution_count": null,
   "metadata": {},
   "outputs": [],
   "source": []
  },
  {
   "cell_type": "code",
   "execution_count": 20,
   "metadata": {},
   "outputs": [],
   "source": [
    "# Introduction to Conditional Statements:\n",
    "\n",
    "# if-else blocks\n",
    "\n",
    "students = ['chandra','divya','anil','vinod','sunil','dinesh']"
   ]
  },
  {
   "cell_type": "code",
   "execution_count": 21,
   "metadata": {},
   "outputs": [
    {
     "data": {
      "text/plain": [
       "list"
      ]
     },
     "execution_count": 21,
     "metadata": {},
     "output_type": "execute_result"
    }
   ],
   "source": [
    "type(students)"
   ]
  },
  {
   "cell_type": "code",
   "execution_count": 24,
   "metadata": {},
   "outputs": [
    {
     "name": "stdout",
     "output_type": "stream",
     "text": [
      "CHANDRA\n",
      "Divya\n",
      "Anil\n",
      "Vinod\n",
      "Sunil\n",
      "Dinesh\n"
     ]
    }
   ],
   "source": [
    "# display chandra name in upper case if exists in the list and others with title case.\n",
    "for name in students:\n",
    "    if(name=='chandra'):\n",
    "        print(name.upper())\n",
    "    else:\n",
    "        print(name.title())"
   ]
  },
  {
   "cell_type": "code",
   "execution_count": 25,
   "metadata": {},
   "outputs": [
    {
     "name": "stdout",
     "output_type": "stream",
     "text": [
      "\u0007\n"
     ]
    }
   ],
   "source": [
    "print(\"\\a\")"
   ]
  },
  {
   "cell_type": "code",
   "execution_count": 26,
   "metadata": {},
   "outputs": [
    {
     "name": "stdout",
     "output_type": "stream",
     "text": [
      "'a'\n"
     ]
    }
   ],
   "source": [
    "print(r\"'a'\")  # r represents raw string."
   ]
  },
  {
   "cell_type": "code",
   "execution_count": 27,
   "metadata": {},
   "outputs": [
    {
     "name": "stdout",
     "output_type": "stream",
     "text": [
      "\\a\n"
     ]
    }
   ],
   "source": [
    "print(r\"\\a\")"
   ]
  },
  {
   "cell_type": "code",
   "execution_count": null,
   "metadata": {},
   "outputs": [],
   "source": []
  }
 ],
 "metadata": {
  "kernelspec": {
   "display_name": "Python 3",
   "language": "python",
   "name": "python3"
  },
  "language_info": {
   "codemirror_mode": {
    "name": "ipython",
    "version": 3
   },
   "file_extension": ".py",
   "mimetype": "text/x-python",
   "name": "python",
   "nbconvert_exporter": "python",
   "pygments_lexer": "ipython3",
   "version": "3.7.6"
  }
 },
 "nbformat": 4,
 "nbformat_minor": 4
}
