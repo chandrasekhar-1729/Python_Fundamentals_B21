{
 "cells": [
  {
   "cell_type": "code",
   "execution_count": 1,
   "metadata": {},
   "outputs": [],
   "source": [
    "# Continuation of For Loops"
   ]
  },
  {
   "cell_type": "code",
   "execution_count": 2,
   "metadata": {},
   "outputs": [],
   "source": [
    "my_students = ['chandra','suresh','ramya','hareesh','surya','karthik','divya','anil','vindo','sunil','dinesh','kishore']"
   ]
  },
  {
   "cell_type": "code",
   "execution_count": 4,
   "metadata": {},
   "outputs": [
    {
     "name": "stdout",
     "output_type": "stream",
     "text": [
      "Chandra\n",
      "Suresh\n",
      "Ramya\n",
      "Hareesh\n",
      "Surya\n",
      "Karthik\n",
      "Divya\n",
      "Anil\n",
      "Vindo\n",
      "Sunil\n",
      "Dinesh\n",
      "Kishore\n"
     ]
    }
   ],
   "source": [
    "for student in my_students:\n",
    "    print(student.title())"
   ]
  },
  {
   "cell_type": "code",
   "execution_count": 6,
   "metadata": {},
   "outputs": [
    {
     "name": "stdout",
     "output_type": "stream",
     "text": [
      "Keep up the good work, Chandra\n",
      "Keep up the good work, Suresh\n",
      "Keep up the good work, Ramya\n",
      "Keep up the good work, Hareesh\n",
      "Keep up the good work, Surya\n",
      "Keep up the good work, Karthik\n",
      "Keep up the good work, Divya\n",
      "Keep up the good work, Anil\n",
      "Keep up the good work, Vindo\n",
      "Keep up the good work, Sunil\n",
      "Keep up the good work, Dinesh\n",
      "Keep up the good work, Kishore\n"
     ]
    }
   ],
   "source": [
    "# enhancement of the code:\n",
    "\n",
    "for student in my_students:\n",
    "    print(f\"Keep up the good work, {student.title()}\")"
   ]
  },
  {
   "cell_type": "code",
   "execution_count": 7,
   "metadata": {},
   "outputs": [
    {
     "name": "stdout",
     "output_type": "stream",
     "text": [
      "Keep up the good work, Chandra\n",
      "I am looking forward to recive your daily practice files, Chandra\n",
      "Keep up the good work, Suresh\n",
      "I am looking forward to recive your daily practice files, Suresh\n",
      "Keep up the good work, Ramya\n",
      "I am looking forward to recive your daily practice files, Ramya\n",
      "Keep up the good work, Hareesh\n",
      "I am looking forward to recive your daily practice files, Hareesh\n",
      "Keep up the good work, Surya\n",
      "I am looking forward to recive your daily practice files, Surya\n",
      "Keep up the good work, Karthik\n",
      "I am looking forward to recive your daily practice files, Karthik\n",
      "Keep up the good work, Divya\n",
      "I am looking forward to recive your daily practice files, Divya\n",
      "Keep up the good work, Anil\n",
      "I am looking forward to recive your daily practice files, Anil\n",
      "Keep up the good work, Vindo\n",
      "I am looking forward to recive your daily practice files, Vindo\n",
      "Keep up the good work, Sunil\n",
      "I am looking forward to recive your daily practice files, Sunil\n",
      "Keep up the good work, Dinesh\n",
      "I am looking forward to recive your daily practice files, Dinesh\n",
      "Keep up the good work, Kishore\n",
      "I am looking forward to recive your daily practice files, Kishore\n"
     ]
    }
   ],
   "source": [
    "for student in my_students:\n",
    "    print(f\"Keep up the good work, {student.title()}\")\n",
    "    print(f\"I am looking forward to recive your daily practice files, {student.title()}\")"
   ]
  },
  {
   "cell_type": "code",
   "execution_count": 8,
   "metadata": {},
   "outputs": [
    {
     "name": "stdout",
     "output_type": "stream",
     "text": [
      "Keep up the good work, Chandra\n",
      "I am looking forward to recive your daily practice files, Chandra\n",
      "\n",
      "Keep up the good work, Suresh\n",
      "I am looking forward to recive your daily practice files, Suresh\n",
      "\n",
      "Keep up the good work, Ramya\n",
      "I am looking forward to recive your daily practice files, Ramya\n",
      "\n",
      "Keep up the good work, Hareesh\n",
      "I am looking forward to recive your daily practice files, Hareesh\n",
      "\n",
      "Keep up the good work, Surya\n",
      "I am looking forward to recive your daily practice files, Surya\n",
      "\n",
      "Keep up the good work, Karthik\n",
      "I am looking forward to recive your daily practice files, Karthik\n",
      "\n",
      "Keep up the good work, Divya\n",
      "I am looking forward to recive your daily practice files, Divya\n",
      "\n",
      "Keep up the good work, Anil\n",
      "I am looking forward to recive your daily practice files, Anil\n",
      "\n",
      "Keep up the good work, Vindo\n",
      "I am looking forward to recive your daily practice files, Vindo\n",
      "\n",
      "Keep up the good work, Sunil\n",
      "I am looking forward to recive your daily practice files, Sunil\n",
      "\n",
      "Keep up the good work, Dinesh\n",
      "I am looking forward to recive your daily practice files, Dinesh\n",
      "\n",
      "Keep up the good work, Kishore\n",
      "I am looking forward to recive your daily practice files, Kishore\n",
      "\n"
     ]
    }
   ],
   "source": [
    "for student in my_students:\n",
    "    print(f\"Keep up the good work, {student.title()}\")\n",
    "    print(f\"I am looking forward to recive your daily practice files, {student.title()}\\n\")"
   ]
  },
  {
   "cell_type": "code",
   "execution_count": 10,
   "metadata": {},
   "outputs": [
    {
     "name": "stdout",
     "output_type": "stream",
     "text": [
      "Keep up the good work, Chandra\n",
      "I am looking forward to recive your daily practice files, Chandra\n",
      "\n",
      "Keep up the good work, Suresh\n",
      "I am looking forward to recive your daily practice files, Suresh\n",
      "\n",
      "Keep up the good work, Ramya\n",
      "I am looking forward to recive your daily practice files, Ramya\n",
      "\n",
      "Keep up the good work, Hareesh\n",
      "I am looking forward to recive your daily practice files, Hareesh\n",
      "\n",
      "Keep up the good work, Surya\n",
      "I am looking forward to recive your daily practice files, Surya\n",
      "\n",
      "Keep up the good work, Karthik\n",
      "I am looking forward to recive your daily practice files, Karthik\n",
      "\n",
      "Keep up the good work, Divya\n",
      "I am looking forward to recive your daily practice files, Divya\n",
      "\n",
      "Keep up the good work, Anil\n",
      "I am looking forward to recive your daily practice files, Anil\n",
      "\n",
      "Keep up the good work, Vindo\n",
      "I am looking forward to recive your daily practice files, Vindo\n",
      "\n",
      "Keep up the good work, Sunil\n",
      "I am looking forward to recive your daily practice files, Sunil\n",
      "\n",
      "Keep up the good work, Dinesh\n",
      "I am looking forward to recive your daily practice files, Dinesh\n",
      "\n",
      "Keep up the good work, Kishore\n",
      "I am looking forward to recive your daily practice files, Kishore\n",
      "\n",
      "Thank you all you for joining the session...\n"
     ]
    }
   ],
   "source": [
    "for student in my_students:\n",
    "    print(f\"Keep up the good work, {student.title()}\")\n",
    "    print(f\"I am looking forward to recive your daily practice files, {student.title()}\\n\")\n",
    "print(\"Thank you all you for joining the session...\")"
   ]
  },
  {
   "cell_type": "code",
   "execution_count": null,
   "metadata": {},
   "outputs": [],
   "source": [
    "# Introduction to if-else:\n",
    "\n",
    "# General Syntax : \n",
    "\n",
    "if condition :\n",
    "    print(sttatements)\n",
    "else:\n",
    "    print(statements)"
   ]
  },
  {
   "cell_type": "code",
   "execution_count": null,
   "metadata": {},
   "outputs": [],
   "source": [
    "# req : if chandra and divya are part of the my_students list, display his name in upper case and all other names in title case."
   ]
  },
  {
   "cell_type": "code",
   "execution_count": 11,
   "metadata": {},
   "outputs": [
    {
     "name": "stdout",
     "output_type": "stream",
     "text": [
      "['chandra', 'suresh', 'ramya', 'hareesh', 'surya', 'karthik', 'divya', 'anil', 'vindo', 'sunil', 'dinesh', 'kishore']\n"
     ]
    }
   ],
   "source": [
    "print(my_students)"
   ]
  },
  {
   "cell_type": "code",
   "execution_count": 13,
   "metadata": {},
   "outputs": [
    {
     "name": "stdout",
     "output_type": "stream",
     "text": [
      "CHANDRA\n",
      "Suresh\n",
      "Ramya\n",
      "Hareesh\n",
      "Surya\n",
      "Karthik\n",
      "DIVYA\n",
      "Anil\n",
      "Vindo\n",
      "Sunil\n",
      "Dinesh\n",
      "Kishore\n"
     ]
    }
   ],
   "source": [
    "for student in my_students:\n",
    "    if(student=='chandra' or student=='divya'):\n",
    "        print(student.upper())\n",
    "    else:\n",
    "        print(student.title())"
   ]
  },
  {
   "cell_type": "code",
   "execution_count": null,
   "metadata": {},
   "outputs": [],
   "source": [
    "# Introduction to Slicing of Lists:\n",
    "\n",
    "#General Syntax : MainVariable[startValue:StopValue:Stepcount] ====> Its completely based on the index values. "
   ]
  },
  {
   "cell_type": "code",
   "execution_count": null,
   "metadata": {},
   "outputs": [],
   "source": []
  },
  {
   "cell_type": "markdown",
   "metadata": {},
   "source": []
  },
  {
   "cell_type": "code",
   "execution_count": null,
   "metadata": {},
   "outputs": [],
   "source": []
  },
  {
   "cell_type": "code",
   "execution_count": null,
   "metadata": {},
   "outputs": [],
   "source": []
  },
  {
   "cell_type": "code",
   "execution_count": null,
   "metadata": {},
   "outputs": [],
   "source": []
  }
 ],
 "metadata": {
  "kernelspec": {
   "display_name": "Python 3",
   "language": "python",
   "name": "python3"
  },
  "language_info": {
   "codemirror_mode": {
    "name": "ipython",
    "version": 3
   },
   "file_extension": ".py",
   "mimetype": "text/x-python",
   "name": "python",
   "nbconvert_exporter": "python",
   "pygments_lexer": "ipython3",
   "version": "3.7.6"
  }
 },
 "nbformat": 4,
 "nbformat_minor": 4
}
