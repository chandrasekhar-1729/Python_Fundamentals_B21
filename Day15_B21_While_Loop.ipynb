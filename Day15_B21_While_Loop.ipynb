{
 "cells": [
  {
   "cell_type": "code",
   "execution_count": null,
   "metadata": {},
   "outputs": [],
   "source": [
    "current_num1 = int(input(\"Enter any number1\"))\n",
    "current_num2 = int(input(\"Enter 2nd number\"))\n",
    "\n",
    "while current_num1<=current_num2:\n",
    "    print(current_num1)\n",
    "    current_num1 +=1"
   ]
  },
  {
   "cell_type": "code",
   "execution_count": null,
   "metadata": {},
   "outputs": [],
   "source": [
    "current_num1 = int(input(\"Enter any number1\"))\n",
    "current_num2 = int(input(\"Enter 2nd number\"))\n",
    "\n",
    "while current_num1<=current_num2:\n",
    "    print(current_num1)\n",
    "    current_num1 +=1"
   ]
  },
  {
   "cell_type": "code",
   "execution_count": null,
   "metadata": {},
   "outputs": [],
   "source": [
    "# Letting the user when to quit.\n",
    "\n",
    "prompt=\"\\nTell me something,I will repeat it for you\"\n",
    "prompt+=\"\\nEnter 'quit' to end the program.\"\n",
    "\n",
    "message=\" \"\n",
    "while message!='quit':\n",
    "    message=input(prompt)\n",
    "    print(message)"
   ]
  },
  {
   "cell_type": "code",
   "execution_count": null,
   "metadata": {},
   "outputs": [],
   "source": [
    "# break statement:\n",
    "\n",
    "prompt=\"\\nEnter the city you have visited recently\"\n",
    "prompt+=\"\\n(Enter 'quit' when you are finished.)\"\n",
    "\n",
    "while true:\n",
    "    city=input(prompt)\n",
    "    if city='quit':\n",
    "        break\n",
    "    else:\n",
    "        print(f\"I would love visit {city.title()} again!\")"
   ]
  },
  {
   "cell_type": "code",
   "execution_count": null,
   "metadata": {},
   "outputs": [],
   "source": []
  },
  {
   "cell_type": "code",
   "execution_count": null,
   "metadata": {},
   "outputs": [],
   "source": []
  },
  {
   "cell_type": "code",
   "execution_count": null,
   "metadata": {},
   "outputs": [],
   "source": []
  }
 ],
 "metadata": {
  "kernelspec": {
   "display_name": "Python 3",
   "language": "python",
   "name": "python3"
  },
  "language_info": {
   "codemirror_mode": {
    "name": "ipython",
    "version": 3
   },
   "file_extension": ".py",
   "mimetype": "text/x-python",
   "name": "python",
   "nbconvert_exporter": "python",
   "pygments_lexer": "ipython3",
   "version": "3.7.6"
  }
 },
 "nbformat": 4,
 "nbformat_minor": 4
}
