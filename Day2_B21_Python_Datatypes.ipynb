{
 "cells": [
  {
   "cell_type": "code",
   "execution_count": null,
   "metadata": {},
   "outputs": [],
   "source": [
    "Introduction to Variables :"
   ]
  },
  {
   "cell_type": "code",
   "execution_count": null,
   "metadata": {},
   "outputs": [],
   "source": [
    "We can declare the variables in Python as below\n",
    "\n",
    "x=5 # Integer Variable\n",
    "y=4 # Integer Variable\n",
    "z='Chandra' # String Variable\n",
    "\n",
    "Rules for declaring the Vaiables :\n",
    "    \n",
    "    1. Name spaces should not be there in the variables.\n",
    "    Eg: My name = \"Chandra\" # Wro\n",
    "        ng way of variable declaration\n",
    "        Myname = \"Chandra\" # correct way of variable declaration\n",
    "        My_Name = \"Chandra\" # Correct way of variable declaration\n",
    "    \n",
    "    2. Variable name should not start with number, but a number can be placed in between the varaible name or at the last.\n",
    "    Eg: 1name = \"Chandra\" # wrong way of varaible declaration\n",
    "        name1 = \"Chandra\" # Correct way of variable declaration\n",
    "        \n",
    "    3. No Special characters should be used while declaring the varaibles  except underscore(_)\n",
    "    Eg: @name = \"Chandra\" # Wrong way of varaible declaration\n",
    "        Name@ = \"Chandra\" # Wrong way of variable declaration\n",
    "        _name = \"divya\" # Correct way of variable declaration\n",
    "        name_ = \"divya\" # Correct way of variable declaration"
   ]
  },
  {
   "cell_type": "code",
   "execution_count": null,
   "metadata": {},
   "outputs": [],
   "source": [
    "classification of Data types :\n",
    "    \n",
    "* Basically there ate two types of data types in python.\n",
    "    1. Mutable Datatypes\n",
    "    2. Immutable Datatypes\n",
    " \n",
    "    \n",
    "Mutable datatypes : These data types can be changed/altered/modified after the declaration.\n",
    "Immutable datatypes: These data types can't be changed/altered/modified after the declaration"
   ]
  },
  {
   "cell_type": "code",
   "execution_count": null,
   "metadata": {},
   "outputs": [],
   "source": [
    "Introduction to Data types: Basic data types in python are below.\n",
    "    1. String -> str\n",
    "    2. Lists -> list\n",
    "    3. Tuples ->tuple\n",
    "    4. dictionary ->dict\n",
    "\n",
    "String data types:  A string is a collection of characters. Its an immutable data type.\n",
    "    \n",
    "    Defining String Varaible: String varaible can be declared in three ways.\n",
    "        1. 'name' - single quotes\n",
    "        2. \"name\" - double quotes\n",
    "        3. \"\"\"name\"\"\" - triple quotes\n",
    "        \n",
    "        eg : name = 'chandra'\n",
    "            name1 = \"chandra\"\n",
    "            name2 = \"\"\"chandra\"\"\""
   ]
  },
  {
   "cell_type": "code",
   "execution_count": null,
   "metadata": {},
   "outputs": [],
   "source": [
    "Introduction to String methods:\n",
    "    \n",
    "    type() : will display the data type of the declared variable\n",
    "    \n",
    "    title(): This method can be used to print the statements in a proper format. (All the first letters of the words \n",
    "    will be printed with captial letters)"
   ]
  },
  {
   "cell_type": "code",
   "execution_count": 2,
   "metadata": {},
   "outputs": [
    {
     "data": {
      "text/plain": [
       "str"
      ]
     },
     "execution_count": 2,
     "metadata": {},
     "output_type": "execute_result"
    }
   ],
   "source": [
    "name='chandra'\n",
    "type(name)"
   ]
  },
  {
   "cell_type": "code",
   "execution_count": 3,
   "metadata": {},
   "outputs": [
    {
     "name": "stdout",
     "output_type": "stream",
     "text": [
      "Chandra\n"
     ]
    }
   ],
   "source": [
    "print(name.title())"
   ]
  },
  {
   "cell_type": "code",
   "execution_count": 4,
   "metadata": {},
   "outputs": [
    {
     "name": "stdout",
     "output_type": "stream",
     "text": [
      "chandra\n"
     ]
    }
   ],
   "source": [
    "print(name.lower()) #will display all the words in lower format"
   ]
  },
  {
   "cell_type": "code",
   "execution_count": 5,
   "metadata": {},
   "outputs": [
    {
     "name": "stdout",
     "output_type": "stream",
     "text": [
      "CHANDRA\n"
     ]
    }
   ],
   "source": [
    "print(name.upper()) #WILL DISPLAY ALL THE WORDS IN UPPER FORMAT"
   ]
  },
  {
   "cell_type": "code",
   "execution_count": null,
   "metadata": {},
   "outputs": [],
   "source": []
  }
 ],
 "metadata": {
  "kernelspec": {
   "display_name": "Python 3",
   "language": "python",
   "name": "python3"
  },
  "language_info": {
   "codemirror_mode": {
    "name": "ipython",
    "version": 3
   },
   "file_extension": ".py",
   "mimetype": "text/x-python",
   "name": "python",
   "nbconvert_exporter": "python",
   "pygments_lexer": "ipython3",
   "version": "3.7.6"
  }
 },
 "nbformat": 4,
 "nbformat_minor": 4
}
