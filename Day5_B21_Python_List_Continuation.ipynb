{
 "cells": [
  {
   "cell_type": "code",
   "execution_count": 1,
   "metadata": {},
   "outputs": [],
   "source": [
    "x = '  python  '"
   ]
  },
  {
   "cell_type": "code",
   "execution_count": 2,
   "metadata": {},
   "outputs": [
    {
     "data": {
      "text/plain": [
       "'python'"
      ]
     },
     "execution_count": 2,
     "metadata": {},
     "output_type": "execute_result"
    }
   ],
   "source": [
    "x.strip()"
   ]
  },
  {
   "cell_type": "code",
   "execution_count": 3,
   "metadata": {},
   "outputs": [],
   "source": [
    "my_family=['durga','krupa','chandra','divya','sankar','jyothi','kaachu','daachu','ravi','kala','sanjana','chethan']"
   ]
  },
  {
   "cell_type": "code",
   "execution_count": 5,
   "metadata": {},
   "outputs": [
    {
     "name": "stdout",
     "output_type": "stream",
     "text": [
      "Love you my dear family member, Durga\n",
      "Love you my dear family member, Krupa\n",
      "Love you my dear family member, Chandra\n",
      "Love you my dear family member, Divya\n",
      "Love you my dear family member, Sankar\n",
      "Love you my dear family member, Jyothi\n",
      "Love you my dear family member, Kaachu\n",
      "Love you my dear family member, Daachu\n",
      "Love you my dear family member, Ravi\n",
      "Love you my dear family member, Kala\n",
      "Love you my dear family member, Sanjana\n",
      "Love you my dear family member, Chethan\n"
     ]
    }
   ],
   "source": [
    "for member in my_family:\n",
    "    print(f\"Love you my dear family member, {member.title()}\")"
   ]
  },
  {
   "cell_type": "code",
   "execution_count": 8,
   "metadata": {},
   "outputs": [
    {
     "name": "stdout",
     "output_type": "stream",
     "text": [
      "['durga', 'krupa', 'chandra', 'divya', 'sankar', 'jyothi', 'kaachu', 'daachu', 'ravi', 'kala', 'sanjana', 'chethan']\n"
     ]
    }
   ],
   "source": [
    "print(my_family)"
   ]
  },
  {
   "cell_type": "code",
   "execution_count": 9,
   "metadata": {},
   "outputs": [
    {
     "name": "stdout",
     "output_type": "stream",
     "text": [
      "['chandra', 'chethan', 'daachu', 'divya', 'durga', 'jyothi', 'kaachu', 'kala', 'krupa', 'ravi', 'sanjana', 'sankar']\n"
     ]
    }
   ],
   "source": [
    "print(sorted(my_family))  # is a temporary sort method. it will not change the order of the original list."
   ]
  },
  {
   "cell_type": "code",
   "execution_count": 10,
   "metadata": {},
   "outputs": [],
   "source": [
    "family = my_family.sort()  # permanant sort method. will change the order of the original list."
   ]
  },
  {
   "cell_type": "code",
   "execution_count": 11,
   "metadata": {},
   "outputs": [
    {
     "name": "stdout",
     "output_type": "stream",
     "text": [
      "None\n"
     ]
    }
   ],
   "source": [
    "print(family)"
   ]
  },
  {
   "cell_type": "code",
   "execution_count": 12,
   "metadata": {},
   "outputs": [
    {
     "name": "stdout",
     "output_type": "stream",
     "text": [
      "['chandra', 'chethan', 'daachu', 'divya', 'durga', 'jyothi', 'kaachu', 'kala', 'krupa', 'ravi', 'sanjana', 'sankar']\n"
     ]
    }
   ],
   "source": [
    "print(my_family)"
   ]
  },
  {
   "cell_type": "code",
   "execution_count": 13,
   "metadata": {},
   "outputs": [],
   "source": [
    "# Diff b/w sorted and sort : sort method is a permenant sort where as sorted method will not changed the order \\\n",
    "# of the list permanantly."
   ]
  },
  {
   "cell_type": "code",
   "execution_count": 14,
   "metadata": {},
   "outputs": [],
   "source": [
    "# To display the list in reverse order, we will use reverse method. Its a permenant change of the list."
   ]
  },
  {
   "cell_type": "code",
   "execution_count": 15,
   "metadata": {},
   "outputs": [],
   "source": [
    "my_family.reverse()"
   ]
  },
  {
   "cell_type": "code",
   "execution_count": 16,
   "metadata": {},
   "outputs": [
    {
     "name": "stdout",
     "output_type": "stream",
     "text": [
      "['sankar', 'sanjana', 'ravi', 'krupa', 'kala', 'kaachu', 'jyothi', 'durga', 'divya', 'daachu', 'chethan', 'chandra']\n"
     ]
    }
   ],
   "source": [
    "print(my_family)"
   ]
  },
  {
   "cell_type": "code",
   "execution_count": 17,
   "metadata": {},
   "outputs": [],
   "source": [
    "# Displaying the number of items in the list can be achieved by len() method."
   ]
  },
  {
   "cell_type": "code",
   "execution_count": 18,
   "metadata": {},
   "outputs": [
    {
     "data": {
      "text/plain": [
       "12"
      ]
     },
     "execution_count": 18,
     "metadata": {},
     "output_type": "execute_result"
    }
   ],
   "source": [
    "len(my_family)"
   ]
  },
  {
   "cell_type": "code",
   "execution_count": null,
   "metadata": {},
   "outputs": [],
   "source": [
    "# For Loop : \n",
    "\n",
    "syntax : for tempvar in mainvar:\n",
    "            print(tempvar)"
   ]
  },
  {
   "cell_type": "code",
   "execution_count": 19,
   "metadata": {},
   "outputs": [
    {
     "name": "stdout",
     "output_type": "stream",
     "text": [
      "Hi my dear Ravi, Good Morning\n"
     ]
    }
   ],
   "source": [
    "print(f\"Hi my dear {my_family[2].title()}, Good Morning\")"
   ]
  },
  {
   "cell_type": "code",
   "execution_count": 21,
   "metadata": {},
   "outputs": [
    {
     "name": "stdout",
     "output_type": "stream",
     "text": [
      "Hi my dear Sankar, Good Morning\n",
      "Hi my dear Sanjana, Good Morning\n",
      "Hi my dear Ravi, Good Morning\n",
      "Hi my dear Krupa, Good Morning\n",
      "Hi my dear Kala, Good Morning\n",
      "Hi my dear Kaachu, Good Morning\n",
      "Hi my dear Jyothi, Good Morning\n",
      "Hi my dear Durga, Good Morning\n",
      "Hi my dear Divya, Good Morning\n",
      "Hi my dear Daachu, Good Morning\n",
      "Hi my dear Chethan, Good Morning\n",
      "Hi my dear Chandra, Good Morning\n"
     ]
    }
   ],
   "source": [
    "for member in my_family:\n",
    "    print(f\"Hi my dear {member.title()}, Good Morning\")"
   ]
  },
  {
   "cell_type": "code",
   "execution_count": 22,
   "metadata": {},
   "outputs": [],
   "source": [
    "# After the ':' in any method, next statement will be displayed with an indentation. Number of spaces in indentation is 4."
   ]
  },
  {
   "cell_type": "code",
   "execution_count": null,
   "metadata": {},
   "outputs": [],
   "source": []
  }
 ],
 "metadata": {
  "kernelspec": {
   "display_name": "Python 3",
   "language": "python",
   "name": "python3"
  },
  "language_info": {
   "codemirror_mode": {
    "name": "ipython",
    "version": 3
   },
   "file_extension": ".py",
   "mimetype": "text/x-python",
   "name": "python",
   "nbconvert_exporter": "python",
   "pygments_lexer": "ipython3",
   "version": "3.7.6"
  }
 },
 "nbformat": 4,
 "nbformat_minor": 4
}
